{
 "cells": [
  {
   "cell_type": "markdown",
   "metadata": {},
   "source": [
    "# Importación de los Datos"
   ]
  },
  {
   "cell_type": "code",
   "execution_count": 31,
   "metadata": {},
   "outputs": [],
   "source": [
    "# Importamos librerias y definimos parámetros\n",
    "import pandas as pd\n",
    "import numpy as np\n",
    "from datetime import datetime\n",
    "from dateutil.relativedelta import relativedelta\n",
    "\n",
    "pd.options.mode.copy_on_write = True\n",
    "pd.set_option('display.max_rows', 10)"
   ]
  },
  {
   "cell_type": "code",
   "execution_count": 32,
   "metadata": {},
   "outputs": [],
   "source": [
    "# Leer el archivo excel en su totalidad\n",
    "excel_file = 'C:/Información/Master Big Data n Analytics/TFM/2022-2023 Datos_solo_accesos.xlsx'\n",
    "excel_completo = pd.read_excel(excel_file, sheet_name=None)"
   ]
  },
  {
   "cell_type": "code",
   "execution_count": 33,
   "metadata": {},
   "outputs": [],
   "source": [
    "# Crear un diccionario para almacenar cada pestaña en una variable diferente\n",
    "DF = {}\n",
    "\n",
    "# Recorrer todas las pestañas y almacenarlas en el diccionario\n",
    "for nombre_pestaña, df in excel_completo.items():\n",
    "    DF[nombre_pestaña] = df"
   ]
  },
  {
   "cell_type": "markdown",
   "metadata": {},
   "source": [
    "# Manipulación de datos"
   ]
  },
  {
   "cell_type": "markdown",
   "metadata": {},
   "source": [
    "# Tabla de Accesos"
   ]
  },
  {
   "cell_type": "code",
   "execution_count": 34,
   "metadata": {},
   "outputs": [],
   "source": [
    "# Vinculamos el DataFrame de Tabla de Accesos a la variable accesos\n",
    "accesos = DF['C1329 Tabla_accesos']"
   ]
  },
  {
   "cell_type": "code",
   "execution_count": 35,
   "metadata": {},
   "outputs": [
    {
     "name": "stderr",
     "output_type": "stream",
     "text": [
      "C:\\Users\\Joan\\AppData\\Local\\Temp\\ipykernel_3312\\2738407397.py:2: FutureWarning: Downcasting behavior in `replace` is deprecated and will be removed in a future version. To retain the old behavior, explicitly call `result.infer_objects(copy=False)`. To opt-in to the future behavior, set `pd.set_option('future.no_silent_downcasting', True)`\n",
      "  accesos.replace(' ', np.nan, inplace = True)\n"
     ]
    }
   ],
   "source": [
    "# Rellenamos todas las celdas vacías con 0 para poder operar con el modelo en el futuro\n",
    "accesos.replace(' ', np.nan, inplace = True)\n",
    "accesos.fillna(0, inplace = True)"
   ]
  },
  {
   "cell_type": "code",
   "execution_count": 36,
   "metadata": {},
   "outputs": [],
   "source": [
    "# Convertimos los nombres de las columnas menusales a formato fecha para poder operar con las mismas\n",
    "nombres_columna_mes = accesos.columns[1:]\n",
    "mes_fecha = datetime(2022, 1, 1)\n",
    "\n",
    "for mes in nombres_columna_mes:\n",
    "    accesos.rename(columns={mes: mes_fecha}, inplace=True)\n",
    "    mes_fecha = pd.Timestamp(mes_fecha) + pd.DateOffset(months=1)"
   ]
  },
  {
   "cell_type": "code",
   "execution_count": 37,
   "metadata": {},
   "outputs": [],
   "source": [
    "# Pasamos los meses de todas las columnas a una única columna con los 24 meses para cada IdPersona\n",
    "accesos = pd.melt(accesos, id_vars=['IdPersona'], var_name='Mes', value_name='Accesos')\n",
    "accesos = accesos.sort_values(by=['IdPersona', 'Mes'])"
   ]
  },
  {
   "cell_type": "code",
   "execution_count": 38,
   "metadata": {},
   "outputs": [],
   "source": [
    "# Añadimos 2 columnas de lags y eliminamos las filas con valores nulos\n",
    "accesos['Accesos-1'] = accesos.groupby('IdPersona')['Accesos'].shift(1)\n",
    "accesos['Accesos-2'] = accesos.groupby('IdPersona')['Accesos'].shift(2)\n",
    "accesos.dropna(inplace = True)"
   ]
  },
  {
   "cell_type": "code",
   "execution_count": 39,
   "metadata": {},
   "outputs": [],
   "source": [
    "# Dataset reducido para realizar pruebas:\n",
    "\n",
    "# usuarios = [15, 20, 39, 56, 126, 149, 151, 161, 34562, 55546]\n",
    "# accesos = accesos[accesos['IdPersona'].isin(usuarios)]"
   ]
  },
  {
   "cell_type": "markdown",
   "metadata": {},
   "source": [
    "# Creación tabla información de cliente y tablas de variables menusales"
   ]
  },
  {
   "cell_type": "code",
   "execution_count": 40,
   "metadata": {},
   "outputs": [],
   "source": [
    "# Juntamos las 24 tablas mensuales y creamos un DataFrame\n",
    "dfs_mensuales = [DF['Ene_22'], DF['Feb_22'], DF['Mar_22'], DF['Abr_22'], DF['May_22'], DF['Jun_22'], DF['Jul_22'], DF['Ago_22'], DF['Sep_22'], DF['Oct_22'], DF['Nov_22'], DF['Dic_22'], DF['Ene_23'], DF['Feb_23'], DF['Mar_23'], DF['Abr_23'], DF['May_23'], DF['Jun_23'], DF['Jul_23'], DF['Ago_23'], DF['Sep_23'], DF['Oct_23'], DF['Nov_23'], DF['Dic_23']]\n",
    "tablas_mensuales = pd.concat(dfs_mensuales, ignore_index = True)\n",
    "\n",
    "# Creamos 2 DataFrames\n",
    "# Información de clientes:\n",
    "info_clientes = tablas_mensuales.drop_duplicates(subset = ['IdPersona'])\n",
    "info_clientes = info_clientes[['IdPersona', 'Edad', 'Sexo', 'EsAbonado']].copy()\n",
    "\n",
    "# Se eliminan las filas que presentan valores de edad incorrectos\n",
    "info_clientes['Edad'] = pd.to_numeric(info_clientes['Edad'], errors='coerce')\n",
    "info_clientes = info_clientes[info_clientes['Edad'].notna()]\n",
    "\n",
    "# Información variable en el tiempo (altas, bajas, tipo de abono):\n",
    "Info_fechas = tablas_mensuales.drop_duplicates(subset = ['IdPersona', 'FechaAlta', 'FechaBajaAbono'])\n",
    "altas_bajas_abonos = Info_fechas[['IdPersona', 'FechaAlta', 'FechaBajaAbono', 'BajaPorCambio', 'TipoAbono']].copy()"
   ]
  },
  {
   "cell_type": "code",
   "execution_count": 41,
   "metadata": {},
   "outputs": [],
   "source": [
    "# Se crea una lista con los ID de usuarios que tienen el abono tipo: ACCÉS 1 MES (para usar más adelante)\n",
    "Ids_Abono_1mes = altas_bajas_abonos[altas_bajas_abonos['TipoAbono'] == 'ACCÉS 1 MES']['IdPersona'].tolist()"
   ]
  },
  {
   "cell_type": "markdown",
   "metadata": {},
   "source": [
    "# Tabla Altas-Bajas-Accesos"
   ]
  },
  {
   "cell_type": "code",
   "execution_count": 42,
   "metadata": {},
   "outputs": [],
   "source": [
    "# Convertimos las columnas FechaAlta y FechaBajaAbono a tipo fecha para poder operar con la misma\n",
    "altas_bajas_abonos['FechaBajaAbono'] = pd.to_datetime(altas_bajas_abonos['FechaBajaAbono'], format='%d/%m/%Y', errors = 'coerce')\n",
    "altas_bajas_abonos['FechaAlta'] = pd.to_datetime(altas_bajas_abonos['FechaAlta'], format='%d/%m/%Y', errors = 'coerce')\n",
    "# altas_bajas['FechaBajaAbono'] = altas_bajas['FechaBajaAbono'].dt.date() # (Supuestamente para convertir DateTime to Date, pero no funciona con series) - No se encuengtra la manera de pasar a Date\n",
    "\n",
    "# Convertimos la columna BajaPorCambio en booleana\n",
    "altas_bajas_abonos['BajaPorCambio'] = altas_bajas_abonos['BajaPorCambio'].map({'Sí': True, 'No': False})"
   ]
  },
  {
   "cell_type": "code",
   "execution_count": 43,
   "metadata": {},
   "outputs": [],
   "source": [
    "# Rellenamos las fechas vacías de FechasBaja Abono (usuarios que no se dan de baja) con una fecha futura para poder operar más adelante\n",
    "Fecha_sin_baja = pd.to_datetime('2024-01-02')\n",
    "altas_bajas_abonos['FechaBajaAbono'] = altas_bajas_abonos['FechaBajaAbono'].fillna(Fecha_sin_baja)"
   ]
  },
  {
   "cell_type": "code",
   "execution_count": 44,
   "metadata": {},
   "outputs": [],
   "source": [
    "# altas_bajas_abonos = altas_bajas_abonos[altas_bajas_abonos['IdPersona'].isin(usuarios)]\n",
    "# altas_bajas_abonos.drop_duplicates(inplace= True)"
   ]
  },
  {
   "cell_type": "code",
   "execution_count": 45,
   "metadata": {},
   "outputs": [],
   "source": [
    "# Juntamos ambas tablas en la variable IdPersona para que se repitan todas esas filas que para un mismo ID presentan variedad de datos en altas, bajas y abonos\n",
    "accesos_altas_bajas = pd.merge(accesos, altas_bajas_abonos, on='IdPersona', how='inner')\n",
    "accesos_altas_bajas.drop_duplicates(inplace= True)"
   ]
  },
  {
   "cell_type": "markdown",
   "metadata": {},
   "source": [
    "# Unión de accesos con altas-bajas-accesos y limpieza de datos"
   ]
  },
  {
   "cell_type": "code",
   "execution_count": 46,
   "metadata": {},
   "outputs": [],
   "source": [
    "# Creamos una columna booleana que indica para cada mes de accesos, si el usuario esta dado de alta o no (si la FechaAlta es igual o inferior al último día del mes y la FechaBajaAbono es superior al primer día del mes)\n",
    "accesos_altas_bajas['EsSocio'] = ((accesos_altas_bajas['Mes'] + pd.DateOffset(months=1) - pd.DateOffset(days=1)) >= accesos_altas_bajas['FechaAlta']) & (accesos_altas_bajas['Mes'] < accesos_altas_bajas['FechaBajaAbono'])\n",
    "\n",
    "# Descartamos todas las filas en que los usuarios no están dados de alta\n",
    "accesos_altas_bajas = accesos_altas_bajas[accesos_altas_bajas['EsSocio']].copy()\n",
    "\n",
    "# Eliminamos datos \"duplicados\" - Si un cliente se da de baja y de alta el mismo més el registro se duplica (con FechaAlta y/o FechaBaja diferente)\n",
    "accesos_altas_bajas.drop_duplicates(subset = ['IdPersona', 'Mes'],  keep='first', inplace = True)"
   ]
  },
  {
   "cell_type": "code",
   "execution_count": 47,
   "metadata": {},
   "outputs": [],
   "source": [
    "# Separamos los usuarios en 2 DF, uno para los que tienen accesos 'ACCÉS 1 MES' y el resto de usuarios\n",
    "accesos_altas_bajas_abono_1mes = accesos_altas_bajas[accesos_altas_bajas['IdPersona'].isin(Ids_Abono_1mes)]\n",
    "accesos_altas_bajas_resto_abonos = accesos_altas_bajas[~accesos_altas_bajas['IdPersona'].isin(Ids_Abono_1mes)]"
   ]
  },
  {
   "cell_type": "code",
   "execution_count": 48,
   "metadata": {},
   "outputs": [],
   "source": [
    "# Se crea una nueva columna booleana que indica la baja en el mes que se da de baja\n",
    "# Para la mayoría de usuarios se categoriza la baja por rango de fechas\n",
    "accesos_altas_bajas_resto_abonos['Baja'] = (accesos_altas_bajas_resto_abonos['Mes'] < accesos_altas_bajas_resto_abonos['FechaBajaAbono']) & (accesos_altas_bajas_resto_abonos['FechaBajaAbono'] <= (accesos_altas_bajas_resto_abonos['Mes'] + pd.DateOffset(months=1))) & (accesos_altas_bajas_resto_abonos['BajaPorCambio'] == False)"
   ]
  },
  {
   "cell_type": "code",
   "execution_count": 49,
   "metadata": {},
   "outputs": [],
   "source": [
    "# Se crea una nueva columna booleana que indica la baja en el mes que se da de baja\n",
    "# Para los usuarios ACCÉS 1 MES se emplea el mismo concepto de baja, pero añadiendo que si el mes siguiente se vuelve a dar de alta no se contemple como baja.\n",
    "\n",
    "# Reseteamos el índice para poder recorrer y escribir correctamente en el DataFrame\n",
    "accesos_altas_bajas_abono_1mes.reset_index(drop=True, inplace= True)\n",
    "\n",
    "# Bucle para recorrer el DataFrame, creando una variable que sea el registro actual y otra que sea el registro siguiente, con un IF para el último registro (no tiene la variable 'siguiente_registro')\n",
    "for indice in range(len(accesos_altas_bajas_abono_1mes)):\n",
    "    registro_actual = accesos_altas_bajas_abono_1mes.iloc[indice]\n",
    "    if indice + 1 < len(accesos_altas_bajas_abono_1mes):\n",
    "        registro_siguiente = accesos_altas_bajas_abono_1mes.iloc[indice + 1]\n",
    "\n",
    "        if (registro_actual['IdPersona'] == registro_siguiente['IdPersona']) and (registro_actual['Mes'] + pd.DateOffset(months=1) == registro_siguiente['Mes']):\n",
    "            accesos_altas_bajas_abono_1mes.at[indice, 'Baja'] = False\n",
    "        else:\n",
    "            if (registro_actual['Mes'] < registro_actual['FechaBajaAbono']) & (registro_actual['FechaBajaAbono'] <= (registro_siguiente['Mes'])) & (registro_actual['BajaPorCambio'] == False):\n",
    "                accesos_altas_bajas_abono_1mes.at[indice, 'Baja'] = True\n",
    "            else:\n",
    "                accesos_altas_bajas_abono_1mes.at[indice, 'Baja'] = False\n",
    "    else:\n",
    "        if (registro_actual['Mes'] < registro_actual['FechaBajaAbono']) & (registro_actual['FechaBajaAbono'] <= (registro_actual['Mes'] + pd.DateOffset(months=1))) & (registro_actual['BajaPorCambio'] == False):\n",
    "            accesos_altas_bajas_abono_1mes.at[indice, 'Baja'] = True\n",
    "        else:\n",
    "            accesos_altas_bajas_abono_1mes.at[indice, 'Baja'] = False"
   ]
  },
  {
   "cell_type": "code",
   "execution_count": 50,
   "metadata": {},
   "outputs": [],
   "source": [
    "# Se juntan ambos DataFrames\n",
    "accesos_altas_bajas = pd.concat([accesos_altas_bajas_abono_1mes, accesos_altas_bajas_resto_abonos], axis=0)\n",
    "accesos_altas_bajas = accesos_altas_bajas.sort_values(by=['IdPersona', 'Mes'], ascending=True)\n"
   ]
  },
  {
   "cell_type": "markdown",
   "metadata": {},
   "source": [
    "# Cálculo de antiguedad de los miembros"
   ]
  },
  {
   "cell_type": "code",
   "execution_count": 51,
   "metadata": {},
   "outputs": [],
   "source": [
    "# Se crea un nuevo DataFrame con el primer registro de cada usuario\n",
    "IdPersonas = accesos_altas_bajas.groupby('IdPersona').first().reset_index()\n",
    "\n",
    "# Se calcula la antiguedad inicial de cada miembro\n",
    "def Antiguedad_Inicial(fila):\n",
    "    Diferencia = relativedelta(fila['Mes'], fila['FechaAlta'])\n",
    "    return Diferencia.years * 12 + Diferencia.months\n",
    "\n",
    "IdPersonas['AntiguedadInicial'] = IdPersonas.apply(Antiguedad_Inicial, axis=1)"
   ]
  },
  {
   "cell_type": "code",
   "execution_count": 52,
   "metadata": {},
   "outputs": [],
   "source": [
    "# Unimos el DataFrame princiapl con el de la antiguedad inicial de cada usuario\n",
    "accesos_altas_bajas = accesos_altas_bajas.merge(IdPersonas[['IdPersona', 'AntiguedadInicial']], on='IdPersona', how='inner')"
   ]
  },
  {
   "cell_type": "code",
   "execution_count": 53,
   "metadata": {},
   "outputs": [
    {
     "name": "stderr",
     "output_type": "stream",
     "text": [
      "C:\\Users\\Joan\\AppData\\Local\\Temp\\ipykernel_3312\\4217161863.py:14: DeprecationWarning: DataFrameGroupBy.apply operated on the grouping columns. This behavior is deprecated, and in a future version of pandas the grouping columns will be excluded from the operation. Either pass `include_groups=False` to exclude the groupings or explicitly select the grouping columns after groupby to silence this warning.\n",
      "  accesos_altas_bajas = accesos_altas_bajas.groupby('IdPersona').apply(Antiguedad_Miembro).reset_index(drop=True)\n"
     ]
    }
   ],
   "source": [
    "# Se calcula la antiguedad para cada mes partiendo de la antiguedad inicial previamente calculada, reiniciando en caso de baja\n",
    "def Antiguedad_Miembro(Usuario):\n",
    "    Antiguedad = Usuario['AntiguedadInicial'].iloc[0]\n",
    "    Lista_Antiguedades = []\n",
    "    for Baja in Usuario['Baja']:\n",
    "        Lista_Antiguedades.append(Antiguedad)\n",
    "        if Baja:\n",
    "            Antiguedad = 0\n",
    "        else:\n",
    "            Antiguedad = Antiguedad + 1\n",
    "    Usuario['MesesAntiguedad'] = Lista_Antiguedades\n",
    "    return Usuario\n",
    "\n",
    "accesos_altas_bajas = accesos_altas_bajas.groupby('IdPersona').apply(Antiguedad_Miembro).reset_index(drop=True)"
   ]
  },
  {
   "cell_type": "markdown",
   "metadata": {},
   "source": [
    "# Mes de Alta"
   ]
  },
  {
   "cell_type": "code",
   "execution_count": 54,
   "metadata": {},
   "outputs": [
    {
     "name": "stderr",
     "output_type": "stream",
     "text": [
      "C:\\Users\\Joan\\AppData\\Local\\Temp\\ipykernel_3312\\3142005160.py:2: FutureWarning: Downcasting object dtype arrays on .fillna, .ffill, .bfill is deprecated and will change in a future version. Call result.infer_objects(copy=False) instead. To opt-in to the future behavior, set `pd.set_option('future.no_silent_downcasting', True)`\n",
      "  accesos_altas_bajas['Realta'] = accesos_altas_bajas.groupby('IdPersona')['Baja'].shift(1).fillna(False).astype(bool)\n"
     ]
    }
   ],
   "source": [
    "# Creamos una nueva columna booleana con las bajas desfasadas 1 registro y realizamos la suma acumulativas de dichos valores por cada usuario\n",
    "accesos_altas_bajas['Realta'] = accesos_altas_bajas.groupby('IdPersona')['Baja'].shift(1).fillna(False).astype(bool)\n",
    "accesos_altas_bajas['Realta'] = accesos_altas_bajas.groupby('IdPersona')['Realta'].cumsum()\n",
    "\n",
    "# Se agrupan en conjuntos de usuarios y valor acumulado para diferenciar los periodos de los diferentes abonos y obtener dicho valor mensual\n",
    "accesos_altas_bajas['FechaAltaPorGrupoAbono'] = accesos_altas_bajas.groupby(['IdPersona', 'Realta'])['FechaAlta'].transform('first')\n",
    "accesos_altas_bajas['MesAlta'] = accesos_altas_bajas['FechaAltaPorGrupoAbono'].dt.month"
   ]
  },
  {
   "cell_type": "markdown",
   "metadata": {},
   "source": [
    "# Mes Actual"
   ]
  },
  {
   "cell_type": "code",
   "execution_count": 55,
   "metadata": {},
   "outputs": [],
   "source": [
    "# Aseguramos que la columna 'Mes' está en formato fecha\n",
    "accesos_altas_bajas['Mes'] = pd.to_datetime(accesos_altas_bajas['Mes'])\n",
    "\n",
    "# Agregamos una columna que determine el mes actual, últil para conocer el mes de la baja\n",
    "accesos_altas_bajas['MesActual'] = accesos_altas_bajas['Mes'].dt.month"
   ]
  },
  {
   "cell_type": "markdown",
   "metadata": {},
   "source": [
    "# Cálculo de accesos trimestrales"
   ]
  },
  {
   "cell_type": "code",
   "execution_count": 56,
   "metadata": {},
   "outputs": [],
   "source": [
    "# Se realiza el sumatorio de los 3 meses de accesos por registro\n",
    "accesos_altas_bajas['AccesosTrimestrales'] = accesos_altas_bajas['Accesos'] + accesos_altas_bajas['Accesos-1'] + accesos_altas_bajas['Accesos-2']"
   ]
  },
  {
   "cell_type": "markdown",
   "metadata": {},
   "source": [
    "# Unión con la información de los usuarios"
   ]
  },
  {
   "cell_type": "code",
   "execution_count": 57,
   "metadata": {},
   "outputs": [],
   "source": [
    "# Se une la tabla principal con la tabla de información de usuario\n",
    "Tabla_semicompleta = pd.merge(accesos_altas_bajas, info_clientes, on='IdPersona', how='inner')"
   ]
  },
  {
   "cell_type": "markdown",
   "metadata": {},
   "source": [
    "# Limpieza de las columnas sobrantes"
   ]
  },
  {
   "cell_type": "code",
   "execution_count": 58,
   "metadata": {},
   "outputs": [],
   "source": [
    "Tabla_completa = Tabla_semicompleta.drop(columns=['FechaAlta', 'FechaBajaAbono', 'BajaPorCambio', 'EsSocio', 'AntiguedadInicial', 'Realta', 'FechaAltaPorGrupoAbono'])"
   ]
  },
  {
   "cell_type": "code",
   "execution_count": 59,
   "metadata": {},
   "outputs": [],
   "source": [
    "Tabla_completa = Tabla_completa[['IdPersona', 'Mes', 'Edad', 'Sexo', 'EsAbonado', 'TipoAbono', 'MesAlta', 'MesActual', 'Accesos', 'Accesos-1', 'Accesos-2', 'AccesosTrimestrales', 'MesesAntiguedad', 'Baja']]"
   ]
  },
  {
   "cell_type": "code",
   "execution_count": 60,
   "metadata": {},
   "outputs": [],
   "source": [
    "# Tabla_completa"
   ]
  },
  {
   "cell_type": "markdown",
   "metadata": {},
   "source": [
    "# Conversión de las variables categóricas"
   ]
  },
  {
   "cell_type": "code",
   "execution_count": 61,
   "metadata": {},
   "outputs": [],
   "source": [
    "# Asociamos la tabla a una variable diferentes\n",
    "Tabla_modelos = Tabla_completa"
   ]
  },
  {
   "cell_type": "code",
   "execution_count": 62,
   "metadata": {},
   "outputs": [],
   "source": [
    "# Se cambia el nombre de la columna 'Sexo'\n",
    "Tabla_modelos.rename(columns={'Sexo': 'Genero_masculino'}, inplace=True)\n",
    "\n",
    "# Cambiamos los valores str a booleanos\n",
    "Tabla_modelos['Genero_masculino'] = Tabla_modelos['Genero_masculino'].map({'Hombre': True, 'Mujer': False})\n",
    "Tabla_modelos['EsAbonado'] = Tabla_modelos['EsAbonado'].map({'Sí': True, 'No': False})"
   ]
  },
  {
   "cell_type": "code",
   "execution_count": 63,
   "metadata": {},
   "outputs": [],
   "source": [
    "# Usamos get_dummies para la columna TipoAbono y el mes de alta\n",
    "Tabla_modelos = pd.get_dummies(Tabla_modelos, columns = ['TipoAbono', 'MesAlta', 'MesActual'])"
   ]
  },
  {
   "cell_type": "code",
   "execution_count": 64,
   "metadata": {},
   "outputs": [],
   "source": [
    "# Tabla_modelos"
   ]
  },
  {
   "cell_type": "markdown",
   "metadata": {},
   "source": [
    "# Exportamos el DataFrame a Excel"
   ]
  },
  {
   "cell_type": "code",
   "execution_count": 65,
   "metadata": {},
   "outputs": [],
   "source": [
    "ruta_archivo = 'C:/Información/Master Big Data n Analytics/TFM/GitHub/Chrun-Model/DatosParaModelo.xlsx'"
   ]
  },
  {
   "cell_type": "code",
   "execution_count": 67,
   "metadata": {},
   "outputs": [],
   "source": [
    "Tabla_modelos.to_excel(ruta_archivo, index=False, sheet_name='DataFrame')"
   ]
  }
 ],
 "metadata": {
  "kernelspec": {
   "display_name": "EAE",
   "language": "python",
   "name": "python3"
  },
  "language_info": {
   "codemirror_mode": {
    "name": "ipython",
    "version": 3
   },
   "file_extension": ".py",
   "mimetype": "text/x-python",
   "name": "python",
   "nbconvert_exporter": "python",
   "pygments_lexer": "ipython3",
   "version": "3.12.3"
  }
 },
 "nbformat": 4,
 "nbformat_minor": 2
}
