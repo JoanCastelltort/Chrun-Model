{
 "cells": [
  {
   "cell_type": "code",
   "execution_count": 1,
   "metadata": {},
   "outputs": [],
   "source": [
    "# importem les biblioteques per treballar i el dataset prèviament netejat\n",
    "import pandas as pd\n",
    "from sklearn import tree\n",
    "from sklearn.model_selection import train_test_split\n",
    "from sklearn.model_selection import TimeSeriesSplit\n",
    "from sklearn.metrics import roc_auc_score\n",
    "from sklearn.metrics import average_precision_score\n",
    "from sklearn.tree import DecisionTreeClassifier\n",
    "from sklearn.ensemble import RandomForestClassifier\n",
    "from sklearn.linear_model import LogisticRegression\n",
    "from sklearn.ensemble import GradientBoostingClassifier\n",
    "from sklearn.model_selection import StratifiedKFold\n",
    "from datetime import datetime, timedelta\n",
    "from dateutil.relativedelta import relativedelta\n",
    "import xgboost as xgb\n",
    "import sklearn.metrics as metrics\n",
    "import numpy as np"
   ]
  },
  {
   "cell_type": "code",
   "execution_count": 2,
   "metadata": {},
   "outputs": [],
   "source": [
    "data_gym = pd.read_excel('DatosParaModelo.xlsx')"
   ]
  },
  {
   "cell_type": "code",
   "execution_count": 3,
   "metadata": {},
   "outputs": [
    {
     "name": "stdout",
     "output_type": "stream",
     "text": [
      "La proporción de bajas por registro es de un 4.60%\n"
     ]
    }
   ],
   "source": [
    "Registros = len(data_gym)\n",
    "Registros_Baja = data_gym['Baja'].sum()\n",
    "Proporcion_Registros_Bajas = Registros_Baja/Registros*100\n",
    "\n",
    "print(f'La proporción de bajas por registro es de un {Proporcion_Registros_Bajas:.2f}%')"
   ]
  },
  {
   "cell_type": "markdown",
   "metadata": {},
   "source": [
    "# Logistic Regression"
   ]
  },
  {
   "cell_type": "code",
   "execution_count": 7,
   "metadata": {},
   "outputs": [],
   "source": [
    "def Logistic_Regression (Fechas):\n",
    "\n",
    "    lista_AUC = []\n",
    "\n",
    "    Modelo_reg_log = LogisticRegression(penalty=None, max_iter=3000)\n",
    "\n",
    "    for date in Fechas:\n",
    "        Train_data = data_gym[data_gym['Mes'] <= date]\n",
    "        Fecha_test = pd.Timestamp(date) + pd.DateOffset(months=1)\n",
    "        Test_data = data_gym[data_gym['Mes'] == Fecha_test]\n",
    "        \n",
    "        X_train = Train_data.drop(columns = ['IdPersona', 'Baja', 'Mes'])\n",
    "        y_train = Train_data['Baja']\n",
    "        X_test = Test_data.drop(columns = ['IdPersona', 'Baja', 'Mes'])\n",
    "        y_test = Test_data['Baja']\n",
    "\n",
    "        Modelo_reg_log.fit(X_train, y_train)\n",
    "        Predicciones_reg = Modelo_reg_log.predict_proba(X_test)\n",
    "        AUC_PR = average_precision_score(y_test, Predicciones_reg[:, 1])\n",
    "        lista_AUC.append(AUC_PR)\n",
    "\n",
    "    Mean_AUC = np.mean(lista_AUC)\n",
    "    print(f'El AUC del Modelo de Regresión Logística es: {Mean_AUC}')\n"
   ]
  },
  {
   "cell_type": "markdown",
   "metadata": {},
   "source": [
    "# Random Forest"
   ]
  },
  {
   "cell_type": "code",
   "execution_count": 8,
   "metadata": {},
   "outputs": [],
   "source": [
    "def Random_Forest(Fechas, Profundidades, Estimadores):\n",
    "\n",
    "  lista_parametros = []\n",
    "  lista_AUC = []\n",
    "\n",
    "  for Depth in Profundidades:\n",
    "    for n_estimators in Estimadores:\n",
    "      lista_AUC_provisional = []\n",
    "\n",
    "      for date in Fechas:\n",
    "        Train_data = data_gym[data_gym['Mes'] <= date]\n",
    "        Fecha_test = pd.Timestamp(date) + pd.DateOffset(months=1)\n",
    "        Test_data = data_gym[data_gym['Mes'] == Fecha_test]\n",
    "        \n",
    "        X_train = Train_data.drop(columns = ['IdPersona', 'Baja', 'Mes'])\n",
    "        y_train = Train_data['Baja']\n",
    "        X_test = Test_data.drop(columns = ['IdPersona', 'Baja', 'Mes'])\n",
    "        y_test = Test_data['Baja']    \n",
    "    \n",
    "        Modelo_random_forest = RandomForestClassifier(max_depth=Depth, n_estimators=n_estimators, random_state=1).fit(X_train, y_train)\n",
    "        Predicciones_rndm_frst = Modelo_random_forest.predict_proba(X_test)\n",
    "        AUC_PR = average_precision_score(y_test, Predicciones_rndm_frst[:, 1])\n",
    "        lista_AUC_provisional.append(AUC_PR)\n",
    "\n",
    "      Mean_AUC = np.mean(lista_AUC_provisional)\n",
    "      lista_AUC.append(Mean_AUC)    \n",
    "      lista_parametros.append([Depth, n_estimators])\n",
    "\n",
    "  AUC_max_value = np.argmax(lista_AUC)\n",
    "  print(f'El AUC del modelo Random Forest es {lista_AUC[AUC_max_value]}, para un nivel de profundidad de {lista_parametros[AUC_max_value][0]} y consta de {lista_parametros[AUC_max_value][1]} árboles de decisión')"
   ]
  },
  {
   "cell_type": "markdown",
   "metadata": {},
   "source": [
    "# Gradient Boosting Classifier"
   ]
  },
  {
   "cell_type": "code",
   "execution_count": 9,
   "metadata": {},
   "outputs": [],
   "source": [
    "def Gradient_Boosting (Fechas, Profundidades, Estimadores):\n",
    "\n",
    "    lista_parametros = []\n",
    "    lista_AUC = []\n",
    "\n",
    "    for Depth in Profundidades:\n",
    "        for n_estimators in Estimadores:\n",
    "            lista_AUC_provisional = []\n",
    "        \n",
    "            for date in Fechas:\n",
    "                Train_data = data_gym[data_gym['Mes'] <= date]\n",
    "                Fecha_test = pd.Timestamp(date) + pd.DateOffset(months=1)\n",
    "                Test_data = data_gym[data_gym['Mes'] == Fecha_test]\n",
    "        \n",
    "                X_train = Train_data.drop(columns = ['IdPersona', 'Baja', 'Mes'])\n",
    "                y_train = Train_data['Baja']\n",
    "                X_test = Test_data.drop(columns = ['IdPersona', 'Baja', 'Mes'])\n",
    "                y_test = Test_data['Baja']\n",
    "\n",
    "                Modelo_xgboost = xgb.XGBClassifier(n_estimators=n_estimators, max_depth=Depth, objective='binary:logistic').fit(X_train, y_train)\n",
    "                Predicciones_xgb = Modelo_xgboost.predict_proba(X_test)\n",
    "                AUC_PR = average_precision_score(y_test, Predicciones_xgb[:, 1])\n",
    "                lista_AUC_provisional.append(AUC_PR)\n",
    "\n",
    "            Mean_AUC = np.mean(lista_AUC_provisional)\n",
    "            lista_AUC.append(Mean_AUC)\n",
    "            lista_parametros.append([Depth, n_estimators])\n",
    "\n",
    "    AUC_max_value = np.argmax(lista_AUC)\n",
    "    print(f'El AUC del modelo XGBoost es {lista_AUC[AUC_max_value]}, para un nivel de profundidad de {lista_parametros[AUC_max_value][0]} y consta de {lista_parametros[AUC_max_value][1]} árboles de decisión')"
   ]
  },
  {
   "cell_type": "markdown",
   "metadata": {},
   "source": [
    "# Variables de los Modelos"
   ]
  },
  {
   "cell_type": "code",
   "execution_count": 16,
   "metadata": {},
   "outputs": [],
   "source": [
    "Fechas = sorted(data_gym['Mes'].unique())\n",
    "Fechas.pop()\n",
    "Profundidades = [2, 3, 4, 5, 6, 7, 8, 9, 10]\n",
    "Estimadores = [20, 40, 60, 80, 100, 120, 140]"
   ]
  },
  {
   "cell_type": "markdown",
   "metadata": {},
   "source": [
    "# Ejecución de Modelos"
   ]
  },
  {
   "cell_type": "code",
   "execution_count": 11,
   "metadata": {},
   "outputs": [
    {
     "name": "stdout",
     "output_type": "stream",
     "text": [
      "El AUC del Modelo de Regresión Logística es: 0.1867188689791308\n"
     ]
    }
   ],
   "source": [
    "Logistic_Regression(Fechas)"
   ]
  },
  {
   "cell_type": "code",
   "execution_count": 17,
   "metadata": {},
   "outputs": [
    {
     "name": "stdout",
     "output_type": "stream",
     "text": [
      "El AUC del modelo XGBoost es 0.23048417754611003, para un nivel de profundidad de 2 y consta de 60 árboles de decisión\n"
     ]
    }
   ],
   "source": [
    "Gradient_Boosting(Fechas, Profundidades, Estimadores)"
   ]
  },
  {
   "cell_type": "code",
   "execution_count": 13,
   "metadata": {},
   "outputs": [
    {
     "name": "stdout",
     "output_type": "stream",
     "text": [
      "El AUC del modelo Random Forest es 0.22933269219424884, para un nivel de profundidad de 8 y consta de 100 árboles de decisión\n"
     ]
    }
   ],
   "source": [
    "Random_Forest(Fechas, Profundidades, Estimadores)"
   ]
  }
 ],
 "metadata": {
  "kernelspec": {
   "display_name": "EAE",
   "language": "python",
   "name": "python3"
  },
  "language_info": {
   "codemirror_mode": {
    "name": "ipython",
    "version": 3
   },
   "file_extension": ".py",
   "mimetype": "text/x-python",
   "name": "python",
   "nbconvert_exporter": "python",
   "pygments_lexer": "ipython3",
   "version": "3.12.3"
  }
 },
 "nbformat": 4,
 "nbformat_minor": 2
}
