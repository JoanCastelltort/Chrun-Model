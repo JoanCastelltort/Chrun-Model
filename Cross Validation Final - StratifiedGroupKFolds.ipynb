{
 "cells": [
  {
   "cell_type": "code",
   "execution_count": 1,
   "metadata": {},
   "outputs": [],
   "source": [
    "# Importamos las bibliotecas necesarias y el dataset previamente limpiado\n",
    "\n",
    "import pandas as pd\n",
    "import numpy as np\n",
    "\n",
    "from sklearn.metrics import average_precision_score\n",
    "\n",
    "from sklearn.linear_model import LogisticRegression\n",
    "from sklearn.ensemble import RandomForestClassifier\n",
    "import xgboost as xgb\n",
    "\n",
    "from sklearn.model_selection import StratifiedKFold\n",
    "\n",
    "from itertools import combinations\n",
    "import sklearn.metrics as metrics"
   ]
  },
  {
   "cell_type": "code",
   "execution_count": 2,
   "metadata": {},
   "outputs": [],
   "source": [
    "data_gym = pd.read_excel('DatosParaModelo.xlsx')"
   ]
  },
  {
   "cell_type": "code",
   "execution_count": 3,
   "metadata": {},
   "outputs": [],
   "source": [
    "# Se eliminan los registros del último mes para aquellos IDs que sólo tienen un registro\n",
    "\n",
    "# Se obtienen los IDs que sólo tienen 1 registro y los IDs presentes en el último mes\n",
    "Conteo_registros = data_gym['IdPersona'].value_counts()\n",
    "ID_multiples_registros = Conteo_registros[Conteo_registros == 1].index\n",
    "ID_ultimo_mes = data_gym[data_gym['Mes'] == '2023-12-01']['IdPersona'].tolist()\n",
    "\n",
    "# Se genera una lista con los IDs comunes en ambas listas y se descartan del DataFrame\n",
    "IDs_eliminar = set(ID_multiples_registros).intersection(ID_ultimo_mes)\n",
    "\n",
    "data_gym_sin_ultimos_registros = data_gym[~data_gym['IdPersona'].isin(IDs_eliminar)]"
   ]
  },
  {
   "cell_type": "markdown",
   "metadata": {},
   "source": [
    "# Logistic Regression"
   ]
  },
  {
   "cell_type": "code",
   "execution_count": 4,
   "metadata": {},
   "outputs": [],
   "source": [
    "def Logistic_Regression (DataFrame, Splits):\n",
    "\n",
    "    lista_AUC_kfolds = []\n",
    "\n",
    "    Modelo_reg_log = LogisticRegression(penalty=None, max_iter=3000)\n",
    "\n",
    "    # Se configuran las variables de entrada y salida, la lista de identificadores de clientes y se prepara las divisiones del dataset con estratificación\n",
    "    X = DataFrame.drop(columns = ['IdPersona', 'Baja', 'Mes'])\n",
    "    y = DataFrame['Baja']\n",
    "    Id_Clientes = DataFrame['IdPersona']\n",
    "    kfold = StratifiedKFold(n_splits=Splits, shuffle=True, random_state=1)\n",
    "\n",
    "    # Bucle para iterar sobre los diferentes folds separando entre train y test con divisiones estratificadas según Ids de clientes\n",
    "    for Train_data, Test_data in kfold.split(X, y, groups = Id_Clientes):\n",
    "        X_train, X_test = X.iloc[Train_data], X.iloc[Test_data]\n",
    "        y_train, y_test = y.iloc[Train_data], y.iloc[Test_data]\n",
    "\n",
    "        # Entrenamiento del modelo y cálculo del AUC_PR sobre el conjunto de test\n",
    "        Modelo_reg_log.fit(X_train, y_train)\n",
    "        Predicciones_reg = Modelo_reg_log.predict_proba(X_test)\n",
    "        AUC_PR = average_precision_score(y_test, Predicciones_reg[:, 1])\n",
    "        lista_AUC_kfolds.append(AUC_PR)\n",
    "\n",
    "    # Resultado\n",
    "    Mean_AUC = np.mean(lista_AUC_kfolds)\n",
    "    return Mean_AUC"
   ]
  },
  {
   "cell_type": "markdown",
   "metadata": {},
   "source": [
    "# Random Forest"
   ]
  },
  {
   "cell_type": "code",
   "execution_count": 5,
   "metadata": {},
   "outputs": [],
   "source": [
    "def Random_Forest(Profundidades, Estimadores, DataFrame, Splits):\n",
    "\n",
    "  lista_parametros = []\n",
    "  lista_AUC = []\n",
    "\n",
    "  for Depth in Profundidades:\n",
    "    for n_estimators in Estimadores:\n",
    "      lista_AUC_kfolds = []\n",
    "      \n",
    "      # Se configuran las variables de entrada y salida, la lista de identificadores de clientes y se prepara las divisiones del dataset con estratificación\n",
    "      X = DataFrame.drop(columns = ['IdPersona', 'Baja', 'Mes'])\n",
    "      y = DataFrame['Baja']\n",
    "      Id_Clientes = DataFrame['IdPersona']\n",
    "      kfold = StratifiedKFold(n_splits=Splits, shuffle=True, random_state=1)\n",
    "\n",
    "      # Bucle para iterar sobre los diferentes folds separando entre train y test con divisiones estratificadas según Ids de clientes   \n",
    "      for Train_data, Test_data in kfold.split(X, y, Id_Clientes):\n",
    "        X_train, X_test = X.iloc[Train_data], X.iloc[Test_data]\n",
    "        y_train, y_test = y.iloc[Train_data], y.iloc[Test_data]    \n",
    "    \n",
    "        # Entrenamiento del modelo y cálculo del AUC_PR sobre el conjunto de test\n",
    "        Modelo_random_forest = RandomForestClassifier(max_depth=Depth, n_estimators=n_estimators, random_state=1).fit(X_train, y_train)\n",
    "        Predicciones_rndm_frst = Modelo_random_forest.predict_proba(X_test)\n",
    "        AUC_PR = average_precision_score(y_test, Predicciones_rndm_frst[:, 1])\n",
    "        lista_AUC_kfolds.append(AUC_PR)\n",
    "\n",
    "      # Promediado de los resultados de los diferentes folds y agregado de resultado en las listas\n",
    "      Mean_AUC = np.mean(lista_AUC_kfolds)\n",
    "      lista_AUC.append(Mean_AUC)    \n",
    "      lista_parametros.append([Depth, n_estimators])\n",
    "\n",
    "  # Resultados\n",
    "  AUC_max_value = np.argmax(lista_AUC)\n",
    "  return (lista_AUC[AUC_max_value], lista_parametros[AUC_max_value][0], lista_parametros[AUC_max_value][1])"
   ]
  },
  {
   "cell_type": "markdown",
   "metadata": {},
   "source": [
    "# Gradient Boosting Classifier"
   ]
  },
  {
   "cell_type": "code",
   "execution_count": 6,
   "metadata": {},
   "outputs": [],
   "source": [
    "def Gradient_Boosting (Profundidades, Estimadores, DataFrame, Splits):\n",
    "\n",
    "    lista_parametros = []\n",
    "    lista_AUC = []\n",
    "\n",
    "    for Depth in Profundidades:\n",
    "        for n_estimators in Estimadores:\n",
    "            lista_AUC_kfolds = []\n",
    "\n",
    "            # Se configuran las variables de entrada y salida, la lista de identificadores de clientes y se prepara las divisiones del dataset con estratificación\n",
    "            X = DataFrame.drop(columns = ['IdPersona', 'Baja', 'Mes'])\n",
    "            y = DataFrame['Baja']\n",
    "            Id_Clientes = DataFrame['IdPersona']\n",
    "            kfold = StratifiedKFold(n_splits=Splits, shuffle=True, random_state=1)\n",
    "            \n",
    "            # Bucle para iterar sobre los diferentes folds separando entre train y test con divisiones estratificadas según Ids de clientes\n",
    "            for Train_data, Test_data in kfold.split(X, y, groups = Id_Clientes):\n",
    "                X_train, X_test = X.iloc[Train_data], X.iloc[Test_data]\n",
    "                y_train, y_test = y.iloc[Train_data], y.iloc[Test_data]\n",
    "\n",
    "                # Entrenamiento del modelo y cálculo del AUC_PR sobre el conjunto de test\n",
    "                Modelo_xgboost = xgb.XGBClassifier(n_estimators=n_estimators, max_depth=Depth, objective='binary:logistic').fit(X_train, y_train)\n",
    "                Predicciones_xgb = Modelo_xgboost.predict_proba(X_test)\n",
    "                AUC_PR = average_precision_score(y_test, Predicciones_xgb[:, 1])\n",
    "                lista_AUC_kfolds.append(AUC_PR)\n",
    "\n",
    "            # Promediado de los resultados de los diferentes folds y agregado de resultado en las listas\n",
    "            Mean_AUC = np.mean(lista_AUC_kfolds)\n",
    "            lista_AUC.append(Mean_AUC)\n",
    "            lista_parametros.append([Depth, n_estimators])\n",
    "\n",
    "    # Resultados\n",
    "    AUC_max_value = np.argmax(lista_AUC)\n",
    "    return (lista_AUC[AUC_max_value], lista_parametros[AUC_max_value][0], lista_parametros[AUC_max_value][1])"
   ]
  },
  {
   "cell_type": "markdown",
   "metadata": {},
   "source": [
    "# Variables de los Modelos"
   ]
  },
  {
   "cell_type": "code",
   "execution_count": 7,
   "metadata": {},
   "outputs": [],
   "source": [
    "Splits = 50\n",
    "Profundidades_xgb = [2, 3, 4, 5, 6, 7, 8, 9, 10]\n",
    "Estimadores_xgb = [20, 40, 60, 80, 100, 120]\n",
    "Profundidades_forest = [8, 9, 10, 11, 12, 13, 14, 15]\n",
    "Estimadores_forest = [100, 150, 200, 250, 300]"
   ]
  },
  {
   "cell_type": "markdown",
   "metadata": {},
   "source": [
    "# Ejecución de Modelos"
   ]
  },
  {
   "cell_type": "code",
   "execution_count": 8,
   "metadata": {},
   "outputs": [
    {
     "name": "stdout",
     "output_type": "stream",
     "text": [
      "El AUC del Modelo de Regresión Logística es: 0.19517948836773905\n"
     ]
    }
   ],
   "source": [
    "Result_AUC = Logistic_Regression(data_gym_sin_ultimos_registros, Splits)\n",
    "print(f'El AUC del Modelo de Regresión Logística es: {Result_AUC}')"
   ]
  },
  {
   "cell_type": "code",
   "execution_count": 9,
   "metadata": {},
   "outputs": [
    {
     "name": "stdout",
     "output_type": "stream",
     "text": [
      "El AUC del modelo XGBoost es 0.24464388205538598, para un nivel de profundidad de 7 y consta de 20 árboles de decisión\n"
     ]
    }
   ],
   "source": [
    "Result_AUC, Result_profundidad, Result_estimador = Gradient_Boosting(Profundidades_xgb, Estimadores_xgb, data_gym_sin_ultimos_registros, Splits)\n",
    "print(f'El AUC del modelo XGBoost es {Result_AUC}, para un nivel de profundidad de {Result_profundidad} y consta de {Result_estimador} árboles de decisión')"
   ]
  },
  {
   "cell_type": "code",
   "execution_count": 10,
   "metadata": {},
   "outputs": [
    {
     "name": "stdout",
     "output_type": "stream",
     "text": [
      "El AUC del modelo Random Forest es 0.2543031441350968, para un nivel de profundidad de 15 y consta de 300 árboles de decisión\n"
     ]
    }
   ],
   "source": [
    "Result_AUC, Result_profundidad, Result_estimador = Random_Forest(Profundidades_forest, Estimadores_forest, data_gym_sin_ultimos_registros, Splits)\n",
    "print(f'El AUC del modelo Random Forest es {Result_AUC}, para un nivel de profundidad de {Result_profundidad} y consta de {Result_estimador} árboles de decisión')"
   ]
  }
 ],
 "metadata": {
  "kernelspec": {
   "display_name": "EAE",
   "language": "python",
   "name": "python3"
  },
  "language_info": {
   "codemirror_mode": {
    "name": "ipython",
    "version": 3
   },
   "file_extension": ".py",
   "mimetype": "text/x-python",
   "name": "python",
   "nbconvert_exporter": "python",
   "pygments_lexer": "ipython3",
   "version": "3.12.3"
  }
 },
 "nbformat": 4,
 "nbformat_minor": 2
}
