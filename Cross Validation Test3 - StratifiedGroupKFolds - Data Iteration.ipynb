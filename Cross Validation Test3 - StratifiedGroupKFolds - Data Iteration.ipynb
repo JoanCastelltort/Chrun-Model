{
 "cells": [
  {
   "cell_type": "code",
   "execution_count": 43,
   "metadata": {},
   "outputs": [],
   "source": [
    "# Importamos las bibliotecas necesarias y el dataset previamente limpiado\n",
    "\n",
    "import pandas as pd\n",
    "import numpy as np\n",
    "\n",
    "from sklearn.metrics import precision_recall_curve, auc\n",
    "\n",
    "from sklearn.linear_model import LogisticRegression\n",
    "from sklearn.ensemble import RandomForestClassifier\n",
    "import xgboost as xgb\n",
    "\n",
    "from sklearn.model_selection import StratifiedKFold\n",
    "\n",
    "from itertools import combinations\n",
    "import sklearn.metrics as metrics"
   ]
  },
  {
   "cell_type": "code",
   "execution_count": 24,
   "metadata": {},
   "outputs": [],
   "source": [
    "data_gym = pd.read_excel('DatosParaModelo.xlsx')"
   ]
  },
  {
   "cell_type": "code",
   "execution_count": 25,
   "metadata": {},
   "outputs": [],
   "source": [
    "# Se eliminan los registros del último mes para aquellos IDs que sólo tienen un registro\n",
    "\n",
    "# Se obtienen los IDs que sólo tienen 1 registro y los IDs presentes en el último mes\n",
    "Conteo_registros = data_gym['IdPersona'].value_counts()\n",
    "ID_multiples_registros = Conteo_registros[Conteo_registros == 1].index\n",
    "ID_ultimo_mes = data_gym[data_gym['Mes'] == '2023-12-01']['IdPersona'].tolist()\n",
    "\n",
    "# Se genera una lista con los IDs comunes en ambas listas y se descartan del DataFrame\n",
    "IDs_eliminar = set(ID_multiples_registros).intersection(ID_ultimo_mes)\n",
    "\n",
    "data_gym_sin_ultimos_registros = data_gym[~data_gym['IdPersona'].isin(IDs_eliminar)]"
   ]
  },
  {
   "cell_type": "markdown",
   "metadata": {},
   "source": [
    "# Logistic Regression"
   ]
  },
  {
   "cell_type": "code",
   "execution_count": 46,
   "metadata": {},
   "outputs": [],
   "source": [
    "def Logistic_Regression (DataFrame, Splits):\n",
    "\n",
    "    lista_AUC_kfolds = []\n",
    "\n",
    "    Modelo_reg_log = LogisticRegression(penalty=None, max_iter=3000)\n",
    "\n",
    "    X = DataFrame.drop(columns = ['IdPersona', 'Baja', 'Mes'])\n",
    "    y = DataFrame['Baja']\n",
    "    Id_Clientes = DataFrame['IdPersona']\n",
    "    kfold = StratifiedKFold(n_splits=Splits, shuffle=True, random_state=1)\n",
    "\n",
    "    for Train_data, Test_data in kfold.split(X, y, groups = Id_Clientes):\n",
    "        X_train, X_test = X.iloc[Train_data], X.iloc[Test_data]\n",
    "        y_train, y_test = y.iloc[Train_data], y.iloc[Test_data]\n",
    "\n",
    "        Modelo_reg_log.fit(X_train, y_train)\n",
    "        Predicciones_reg = Modelo_reg_log.predict_proba(X_test)\n",
    "        precision, recall, _ = precision_recall_curve(y_test, Predicciones_reg[:,1])\n",
    "        AUC_PR = auc(recall, precision)\n",
    "        # AUC_PR = average_precision_score(y_test, Predicciones_reg[:, 1])\n",
    "        lista_AUC_kfolds.append(AUC_PR)\n",
    "\n",
    "    Mean_AUC = np.mean(lista_AUC_kfolds)\n",
    "    print(f'El AUC del Modelo de Regresión Logística es: {Mean_AUC}')"
   ]
  },
  {
   "cell_type": "markdown",
   "metadata": {},
   "source": [
    "# Random Forest"
   ]
  },
  {
   "cell_type": "code",
   "execution_count": 49,
   "metadata": {},
   "outputs": [],
   "source": [
    "def Random_Forest(Profundidades, Estimadores, DataFrame, Splits):\n",
    "\n",
    "  lista_parametros = []\n",
    "  lista_AUC = []\n",
    "\n",
    "  for Depth in Profundidades:\n",
    "    for n_estimators in Estimadores:\n",
    "      lista_AUC_kfolds = []\n",
    "\n",
    "      X = DataFrame.drop(columns = ['IdPersona', 'Baja', 'Mes'])\n",
    "      y = DataFrame['Baja']\n",
    "      Id_Clientes = DataFrame['IdPersona']\n",
    "      kfold = StratifiedKFold(n_splits=Splits, shuffle=True, random_state=1)\n",
    "          \n",
    "      for Train_data, Test_data in kfold.split(X, y, Id_Clientes):\n",
    "        X_train, X_test = X.iloc[Train_data], X.iloc[Test_data]\n",
    "        y_train, y_test = y.iloc[Train_data], y.iloc[Test_data]    \n",
    "    \n",
    "        Modelo_random_forest = RandomForestClassifier(max_depth=Depth, n_estimators=n_estimators, random_state=1).fit(X_train, y_train)\n",
    "        Predicciones_rndm_frst = Modelo_random_forest.predict_proba(X_test)\n",
    "        precision, recall, _ = precision_recall_curve(y_test, Predicciones_rndm_frst[:,1])\n",
    "        AUC_PR = auc(recall, precision)\n",
    "        # AUC_PR = average_precision_score(y_test, Predicciones_rndm_frst[:, 1])\n",
    "        lista_AUC_kfolds.append(AUC_PR)\n",
    "\n",
    "      Mean_AUC = np.mean(lista_AUC_kfolds)\n",
    "      lista_AUC.append(Mean_AUC)    \n",
    "      lista_parametros.append([Depth, n_estimators])\n",
    "\n",
    "  AUC_max_value = np.argmax(lista_AUC)\n",
    "  print(f'El AUC del modelo Random Forest es {lista_AUC[AUC_max_value]}, para un nivel de profundidad de {lista_parametros[AUC_max_value][0]} y consta de {lista_parametros[AUC_max_value][1]} árboles de decisión')"
   ]
  },
  {
   "cell_type": "markdown",
   "metadata": {},
   "source": [
    "# Gradient Boosting Classifier"
   ]
  },
  {
   "cell_type": "code",
   "execution_count": 50,
   "metadata": {},
   "outputs": [],
   "source": [
    "def Gradient_Boosting (Profundidades, Estimadores, DataFrame, Splits):\n",
    "\n",
    "    lista_parametros = []\n",
    "    lista_AUC = []\n",
    "\n",
    "    for Depth in Profundidades:\n",
    "        for n_estimators in Estimadores:\n",
    "            lista_AUC_kfolds = []\n",
    "        \n",
    "            X = DataFrame.drop(columns = ['IdPersona', 'Baja', 'Mes'])\n",
    "            y = DataFrame['Baja']\n",
    "            Id_Clientes = DataFrame['IdPersona']\n",
    "            kfold = StratifiedKFold(n_splits=Splits, shuffle=True, random_state=1)\n",
    "            \n",
    "            for Train_data, Test_data in kfold.split(X, y, groups = Id_Clientes):\n",
    "                X_train, X_test = X.iloc[Train_data], X.iloc[Test_data]\n",
    "                y_train, y_test = y.iloc[Train_data], y.iloc[Test_data]\n",
    "\n",
    "                Modelo_xgboost = xgb.XGBClassifier(n_estimators=n_estimators, max_depth=Depth, objective='binary:logistic').fit(X_train, y_train)\n",
    "                Predicciones_xgb = Modelo_xgboost.predict_proba(X_test)\n",
    "                precision, recall, _ = precision_recall_curve(y_test, Predicciones_xgb[:,1])\n",
    "                AUC_PR = auc(recall, precision)\n",
    "                # AUC_PR = average_precision_score(y_test, Predicciones_xgb[:, 1])\n",
    "                lista_AUC_kfolds.append(AUC_PR)\n",
    "\n",
    "            Mean_AUC = np.mean(lista_AUC_kfolds)\n",
    "            lista_AUC.append(Mean_AUC)\n",
    "            lista_parametros.append([Depth, n_estimators])\n",
    "\n",
    "    AUC_max_value = np.argmax(lista_AUC)\n",
    "    print(f'El AUC del modelo XGBoost es {lista_AUC[AUC_max_value]}, para un nivel de profundidad de {lista_parametros[AUC_max_value][0]} y consta de {lista_parametros[AUC_max_value][1]} árboles de decisión')"
   ]
  },
  {
   "cell_type": "markdown",
   "metadata": {},
   "source": [
    "# Edición DataFrame - Descarte de Columnas"
   ]
  },
  {
   "cell_type": "code",
   "execution_count": 29,
   "metadata": {},
   "outputs": [],
   "source": [
    "# Grupos de columnas que queremos ignorar en el Dataset para comprobar si aportan valor al modelo\n",
    "Columna_TipoAbono = ['TipoAbono_- FREE FAMILIAR 2 ADULTS', 'TipoAbono_- QUOTA FREE','TipoAbono_. QUOTA CLUB', 'TipoAbono_ABONAMENT GENERAL', 'TipoAbono_ADULT SENSE TR AMB 33% DISC.', 'TipoAbono_BAIXA TEMPORAL', 'TipoAbono_ESPORTSALUS', 'TipoAbono_FAMILIAR 2 ADULTS', 'TipoAbono_FAMILIAR 3 ADULTS', 'TipoAbono_FAMILIAR MONOPARENTAL']\n",
    "Columna_MesAlta = ['MesAlta_1', 'MesAlta_2', 'MesAlta_3', 'MesAlta_4', 'MesAlta_5', 'MesAlta_6', 'MesAlta_7', 'MesAlta_8', 'MesAlta_9', 'MesAlta_10', 'MesAlta_11', 'MesAlta_12']\n",
    "Columna_MesActual = ['MesActual_1', 'MesActual_2', 'MesActual_3', 'MesActual_4', 'MesActual_5', 'MesActual_6', 'MesActual_7', 'MesActual_8', 'MesActual_9', 'MesActual_10', 'MesActual_11', 'MesActual_12']\n",
    "\n",
    "Grupos_columnas = [Columna_TipoAbono, Columna_MesAlta, Columna_MesActual]\n",
    "Combinaciones_grupos = []\n",
    "\n",
    "# Agregamos a la lista Combinaciones_grupos las diferentes combinatorias entre los 3 grupos \n",
    "for grupo in range(len(Grupos_columnas) + 1):\n",
    "    Combinaciones_grupos.extend(combinations(Grupos_columnas, grupo))\n",
    "\n",
    "# Iteramos sobre la lista de combinaciones para excluir las columnas al Dataset y crear una nueva lista con los diferentes DataFrames\n",
    "Lista_DataFrames = []\n",
    "for Combinacion in Combinaciones_grupos:\n",
    "    \n",
    "    Columnas_prescindir = [columna for groupo in Combinacion for columna in groupo]\n",
    "    DF_modificado = data_gym.drop(columns = Columnas_prescindir)\n",
    "    Lista_DataFrames.append(DF_modificado)"
   ]
  },
  {
   "cell_type": "markdown",
   "metadata": {},
   "source": [
    "# Variables de los Modelos"
   ]
  },
  {
   "cell_type": "code",
   "execution_count": 30,
   "metadata": {},
   "outputs": [],
   "source": [
    "Splits = 50\n",
    "Profundidades = [2, 3, 4, 5, 6, 7, 8]\n",
    "Estimadores = [20, 40, 60, 80, 100]"
   ]
  },
  {
   "cell_type": "markdown",
   "metadata": {},
   "source": [
    "# Ejecución de Modelos"
   ]
  },
  {
   "cell_type": "code",
   "execution_count": 41,
   "metadata": {},
   "outputs": [],
   "source": [
    "pd.set_option('display.max_rows', 2)"
   ]
  },
  {
   "cell_type": "code",
   "execution_count": 47,
   "metadata": {},
   "outputs": [
    {
     "name": "stdout",
     "output_type": "stream",
     "text": [
      "Evaluando DF 1/8\n",
      "El AUC del Modelo de Regresión Logística es: 0.19233915546522262\n",
      "Evaluando DF 2/8\n",
      "El AUC del Modelo de Regresión Logística es: 0.1869432709545537\n",
      "Evaluando DF 3/8\n",
      "El AUC del Modelo de Regresión Logística es: 0.19149161512717341\n",
      "Evaluando DF 4/8\n",
      "El AUC del Modelo de Regresión Logística es: 0.18828937013868852\n",
      "Evaluando DF 5/8\n",
      "El AUC del Modelo de Regresión Logística es: 0.18702461461652867\n",
      "Evaluando DF 6/8\n",
      "El AUC del Modelo de Regresión Logística es: 0.184452752773014\n",
      "Evaluando DF 7/8\n",
      "El AUC del Modelo de Regresión Logística es: 0.18827196217904782\n",
      "Evaluando DF 8/8\n",
      "El AUC del Modelo de Regresión Logística es: 0.1847495067792358\n"
     ]
    }
   ],
   "source": [
    "for Numero_DF, DataFrame in enumerate(Lista_DataFrames):\n",
    "\n",
    "    print(f\"Evaluando DF {Numero_DF + 1}/{len(Lista_DataFrames)}\")\n",
    "    Logistic_Regression(DataFrame, Splits)\n",
    "    "
   ]
  },
  {
   "cell_type": "code",
   "execution_count": 48,
   "metadata": {},
   "outputs": [
    {
     "name": "stdout",
     "output_type": "stream",
     "text": [
      "Evaluando DF 1/8\n",
      "El AUC del modelo XGBoost es 0.24520808947819128, para un nivel de profundidad de 4 y consta de 60 árboles de decisión\n",
      "Evaluando DF 2/8\n",
      "El AUC del modelo XGBoost es 0.23629786781209153, para un nivel de profundidad de 3 y consta de 100 árboles de decisión\n",
      "Evaluando DF 3/8\n",
      "El AUC del modelo XGBoost es 0.24439269873360664, para un nivel de profundidad de 5 y consta de 40 árboles de decisión\n",
      "Evaluando DF 4/8\n",
      "El AUC del modelo XGBoost es 0.2384299154455023, para un nivel de profundidad de 6 y consta de 20 árboles de decisión\n",
      "Evaluando DF 5/8\n",
      "El AUC del modelo XGBoost es 0.2382545867978439, para un nivel de profundidad de 3 y consta de 80 árboles de decisión\n",
      "Evaluando DF 6/8\n",
      "El AUC del modelo XGBoost es 0.2329981221441878, para un nivel de profundidad de 6 y consta de 20 árboles de decisión\n",
      "Evaluando DF 7/8\n",
      "El AUC del modelo XGBoost es 0.23800399602052835, para un nivel de profundidad de 6 y consta de 20 árboles de decisión\n",
      "Evaluando DF 8/8\n",
      "El AUC del modelo XGBoost es 0.22992261243549642, para un nivel de profundidad de 3 y consta de 60 árboles de decisión\n"
     ]
    }
   ],
   "source": [
    "for Numero_DF, DataFrame in enumerate(Lista_DataFrames):\n",
    "\n",
    "    print(f\"Evaluando DF {Numero_DF + 1}/{len(Lista_DataFrames)}\")\n",
    "    Gradient_Boosting(Profundidades, Estimadores, DataFrame, Splits)"
   ]
  },
  {
   "cell_type": "code",
   "execution_count": 51,
   "metadata": {},
   "outputs": [
    {
     "name": "stdout",
     "output_type": "stream",
     "text": [
      "Evaluando DF 1/8\n",
      "El AUC del modelo Random Forest es 0.23537458222401117, para un nivel de profundidad de 8 y consta de 100 árboles de decisión\n",
      "Evaluando DF 2/8\n",
      "El AUC del modelo Random Forest es 0.22902882896584079, para un nivel de profundidad de 8 y consta de 80 árboles de decisión\n",
      "Evaluando DF 3/8\n",
      "El AUC del modelo Random Forest es 0.23368034035827556, para un nivel de profundidad de 8 y consta de 60 árboles de decisión\n",
      "Evaluando DF 4/8\n",
      "El AUC del modelo Random Forest es 0.22917162055431997, para un nivel de profundidad de 8 y consta de 100 árboles de decisión\n",
      "Evaluando DF 5/8\n",
      "El AUC del modelo Random Forest es 0.22923027822862674, para un nivel de profundidad de 8 y consta de 80 árboles de decisión\n",
      "Evaluando DF 6/8\n",
      "El AUC del modelo Random Forest es 0.2242532332921769, para un nivel de profundidad de 8 y consta de 100 árboles de decisión\n",
      "Evaluando DF 7/8\n",
      "El AUC del modelo Random Forest es 0.23085984010705224, para un nivel de profundidad de 8 y consta de 100 árboles de decisión\n",
      "Evaluando DF 8/8\n",
      "El AUC del modelo Random Forest es 0.2250048765330031, para un nivel de profundidad de 8 y consta de 100 árboles de decisión\n"
     ]
    }
   ],
   "source": [
    "for Numero_DF, DataFrame in enumerate(Lista_DataFrames):\n",
    "\n",
    "    print(f\"Evaluando DF {Numero_DF + 1}/{len(Lista_DataFrames)}\")\n",
    "    Random_Forest(Profundidades, Estimadores, DataFrame, Splits)"
   ]
  },
  {
   "cell_type": "code",
   "execution_count": 52,
   "metadata": {},
   "outputs": [
    {
     "name": "stdout",
     "output_type": "stream",
     "text": [
      "Evaluando DF 1/8\n",
      "Index(['IdPersona', 'Mes', 'Edad', 'Genero_masculino', 'EsAbonado', 'Accesos',\n",
      "       'Accesos-1', 'Accesos-2', 'AccesosTrimestrales', 'MesesAntiguedad',\n",
      "       'Baja', 'TipoAbono_- FREE FAMILIAR 2 ADULTS', 'TipoAbono_- QUOTA FREE',\n",
      "       'TipoAbono_. QUOTA CLUB', 'TipoAbono_ABONAMENT GENERAL',\n",
      "       'TipoAbono_ADULT SENSE TR AMB 33% DISC.', 'TipoAbono_BAIXA TEMPORAL',\n",
      "       'TipoAbono_ESPORTSALUS', 'TipoAbono_FAMILIAR 2 ADULTS',\n",
      "       'TipoAbono_FAMILIAR 3 ADULTS', 'TipoAbono_FAMILIAR MONOPARENTAL',\n",
      "       'MesAlta_1', 'MesAlta_2', 'MesAlta_3', 'MesAlta_4', 'MesAlta_5',\n",
      "       'MesAlta_6', 'MesAlta_7', 'MesAlta_8', 'MesAlta_9', 'MesAlta_10',\n",
      "       'MesAlta_11', 'MesAlta_12', 'MesActual_1', 'MesActual_2', 'MesActual_3',\n",
      "       'MesActual_4', 'MesActual_5', 'MesActual_6', 'MesActual_7',\n",
      "       'MesActual_8', 'MesActual_9', 'MesActual_10', 'MesActual_11',\n",
      "       'MesActual_12'],\n",
      "      dtype='object')\n",
      "\n",
      "Evaluando DF 2/8\n",
      "Index(['IdPersona', 'Mes', 'Edad', 'Genero_masculino', 'EsAbonado', 'Accesos',\n",
      "       'Accesos-1', 'Accesos-2', 'AccesosTrimestrales', 'MesesAntiguedad',\n",
      "       'Baja', 'MesAlta_1', 'MesAlta_2', 'MesAlta_3', 'MesAlta_4', 'MesAlta_5',\n",
      "       'MesAlta_6', 'MesAlta_7', 'MesAlta_8', 'MesAlta_9', 'MesAlta_10',\n",
      "       'MesAlta_11', 'MesAlta_12', 'MesActual_1', 'MesActual_2', 'MesActual_3',\n",
      "       'MesActual_4', 'MesActual_5', 'MesActual_6', 'MesActual_7',\n",
      "       'MesActual_8', 'MesActual_9', 'MesActual_10', 'MesActual_11',\n",
      "       'MesActual_12'],\n",
      "      dtype='object')\n",
      "\n",
      "Evaluando DF 3/8\n",
      "Index(['IdPersona', 'Mes', 'Edad', 'Genero_masculino', 'EsAbonado', 'Accesos',\n",
      "       'Accesos-1', 'Accesos-2', 'AccesosTrimestrales', 'MesesAntiguedad',\n",
      "       'Baja', 'TipoAbono_- FREE FAMILIAR 2 ADULTS', 'TipoAbono_- QUOTA FREE',\n",
      "       'TipoAbono_. QUOTA CLUB', 'TipoAbono_ABONAMENT GENERAL',\n",
      "       'TipoAbono_ADULT SENSE TR AMB 33% DISC.', 'TipoAbono_BAIXA TEMPORAL',\n",
      "       'TipoAbono_ESPORTSALUS', 'TipoAbono_FAMILIAR 2 ADULTS',\n",
      "       'TipoAbono_FAMILIAR 3 ADULTS', 'TipoAbono_FAMILIAR MONOPARENTAL',\n",
      "       'MesActual_1', 'MesActual_2', 'MesActual_3', 'MesActual_4',\n",
      "       'MesActual_5', 'MesActual_6', 'MesActual_7', 'MesActual_8',\n",
      "       'MesActual_9', 'MesActual_10', 'MesActual_11', 'MesActual_12'],\n",
      "      dtype='object')\n",
      "\n",
      "Evaluando DF 4/8\n",
      "Index(['IdPersona', 'Mes', 'Edad', 'Genero_masculino', 'EsAbonado', 'Accesos',\n",
      "       'Accesos-1', 'Accesos-2', 'AccesosTrimestrales', 'MesesAntiguedad',\n",
      "       'Baja', 'TipoAbono_- FREE FAMILIAR 2 ADULTS', 'TipoAbono_- QUOTA FREE',\n",
      "       'TipoAbono_. QUOTA CLUB', 'TipoAbono_ABONAMENT GENERAL',\n",
      "       'TipoAbono_ADULT SENSE TR AMB 33% DISC.', 'TipoAbono_BAIXA TEMPORAL',\n",
      "       'TipoAbono_ESPORTSALUS', 'TipoAbono_FAMILIAR 2 ADULTS',\n",
      "       'TipoAbono_FAMILIAR 3 ADULTS', 'TipoAbono_FAMILIAR MONOPARENTAL',\n",
      "       'MesAlta_1', 'MesAlta_2', 'MesAlta_3', 'MesAlta_4', 'MesAlta_5',\n",
      "       'MesAlta_6', 'MesAlta_7', 'MesAlta_8', 'MesAlta_9', 'MesAlta_10',\n",
      "       'MesAlta_11', 'MesAlta_12'],\n",
      "      dtype='object')\n",
      "\n",
      "Evaluando DF 5/8\n",
      "Index(['IdPersona', 'Mes', 'Edad', 'Genero_masculino', 'EsAbonado', 'Accesos',\n",
      "       'Accesos-1', 'Accesos-2', 'AccesosTrimestrales', 'MesesAntiguedad',\n",
      "       'Baja', 'MesActual_1', 'MesActual_2', 'MesActual_3', 'MesActual_4',\n",
      "       'MesActual_5', 'MesActual_6', 'MesActual_7', 'MesActual_8',\n",
      "       'MesActual_9', 'MesActual_10', 'MesActual_11', 'MesActual_12'],\n",
      "      dtype='object')\n",
      "\n",
      "Evaluando DF 6/8\n",
      "Index(['IdPersona', 'Mes', 'Edad', 'Genero_masculino', 'EsAbonado', 'Accesos',\n",
      "       'Accesos-1', 'Accesos-2', 'AccesosTrimestrales', 'MesesAntiguedad',\n",
      "       'Baja', 'MesAlta_1', 'MesAlta_2', 'MesAlta_3', 'MesAlta_4', 'MesAlta_5',\n",
      "       'MesAlta_6', 'MesAlta_7', 'MesAlta_8', 'MesAlta_9', 'MesAlta_10',\n",
      "       'MesAlta_11', 'MesAlta_12'],\n",
      "      dtype='object')\n",
      "\n",
      "Evaluando DF 7/8\n",
      "Index(['IdPersona', 'Mes', 'Edad', 'Genero_masculino', 'EsAbonado', 'Accesos',\n",
      "       'Accesos-1', 'Accesos-2', 'AccesosTrimestrales', 'MesesAntiguedad',\n",
      "       'Baja', 'TipoAbono_- FREE FAMILIAR 2 ADULTS', 'TipoAbono_- QUOTA FREE',\n",
      "       'TipoAbono_. QUOTA CLUB', 'TipoAbono_ABONAMENT GENERAL',\n",
      "       'TipoAbono_ADULT SENSE TR AMB 33% DISC.', 'TipoAbono_BAIXA TEMPORAL',\n",
      "       'TipoAbono_ESPORTSALUS', 'TipoAbono_FAMILIAR 2 ADULTS',\n",
      "       'TipoAbono_FAMILIAR 3 ADULTS', 'TipoAbono_FAMILIAR MONOPARENTAL'],\n",
      "      dtype='object')\n",
      "\n",
      "Evaluando DF 8/8\n",
      "Index(['IdPersona', 'Mes', 'Edad', 'Genero_masculino', 'EsAbonado', 'Accesos',\n",
      "       'Accesos-1', 'Accesos-2', 'AccesosTrimestrales', 'MesesAntiguedad',\n",
      "       'Baja'],\n",
      "      dtype='object')\n",
      "\n"
     ]
    }
   ],
   "source": [
    "for Numero_DF, DataFrame in enumerate(Lista_DataFrames):\n",
    "    print(f\"Evaluando DF {Numero_DF + 1}/{len(Lista_DataFrames)}\")\n",
    "    print(DataFrame.columns)\n",
    "    print()"
   ]
  }
 ],
 "metadata": {
  "kernelspec": {
   "display_name": "EAE",
   "language": "python",
   "name": "python3"
  },
  "language_info": {
   "codemirror_mode": {
    "name": "ipython",
    "version": 3
   },
   "file_extension": ".py",
   "mimetype": "text/x-python",
   "name": "python",
   "nbconvert_exporter": "python",
   "pygments_lexer": "ipython3",
   "version": "3.12.3"
  }
 },
 "nbformat": 4,
 "nbformat_minor": 2
}
